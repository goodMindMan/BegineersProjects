{
 "cells": [
  {
   "cell_type": "markdown",
   "id": "3c0cc731",
   "metadata": {},
   "source": [
    "# GPA calculator"
   ]
  },
  {
   "cell_type": "code",
   "execution_count": null,
   "id": "65d66529",
   "metadata": {},
   "outputs": [],
   "source": [
    "def gpa_calculator(): \n",
    "    \n",
    "    # GPA scale\n",
    "    ValidScl = None\n",
    "    while ValidScl == False:\n",
    "        # GPA scale input\n",
    "        GPAScl = int(input('Do you use a scale of 5 or 4:'))\n",
    "        # input validity check\n",
    "        if not(grdScl in [4, 5]):\n",
    "            ValidSys = yes\n",
    "            print('invalid inputs! please enter a scale of 4 or 5')\n",
    "        else:\n",
    "            ValidScl = True\n",
    "    \n",
    "    # Grading system\n",
    "    ValidSys = None\n",
    "    while ValidSys == False \n",
    "        # grading system input\n",
    "        GrdSysPos = str(input('Does your grading scale system have negative grades i.e. (A-, B-, C-) y/n')):\n",
    "        # input validity check\n",
    "        if not(GrdSysPos in ['y', 'n']):\n",
    "            ValidSys = False\n",
    "            print('invalid inputs! please enter a scale of y (yes their are neag grdes) or n (no their isnt)')\n",
    "        else:\n",
    "            validSys = True\n",
    "    # Setting total number of inputs for each grading system\n",
    "    if GrdSysPos == 'y':\n",
    "        GrdTtl = 13\n",
    "    else:\n",
    "        GrdTtl = 9\n",
    "    \n",
    "    # Grades input\n",
    "    NoGrdIn = 0\n",
    "    while NoGrdIn <= GrdTtl:\n",
    "        InGrd = [input(f'Enter GPA of every grade from A+ to D- (of D depending on Entered grading system) descendingly {i + 1}' for i in range(GrdTtl))]\n",
    "        for i01 in InGrd:\n",
    "            if (i01 < 1) or ( i01 > 5):\n",
    "                print(f'grade in valid, make sure to enter numbers between {GPAScl} and 1')\n",
    "                break \n",
    "            else:\n",
    "                NoGrdIn += 1\n",
    "    \n",
    "        \n",
    "    \n",
    "            \n",
    "        \n",
    "        \n",
    "    "
   ]
  }
 ],
 "metadata": {
  "kernelspec": {
   "display_name": "Python 3 (ipykernel)",
   "language": "python",
   "name": "python3"
  },
  "language_info": {
   "codemirror_mode": {
    "name": "ipython",
    "version": 3
   },
   "file_extension": ".py",
   "mimetype": "text/x-python",
   "name": "python",
   "nbconvert_exporter": "python",
   "pygments_lexer": "ipython3",
   "version": "3.11.4"
  }
 },
 "nbformat": 4,
 "nbformat_minor": 5
}
