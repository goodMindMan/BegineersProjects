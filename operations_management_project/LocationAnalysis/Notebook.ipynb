{
 "cells": [
  {
   "cell_type": "markdown",
   "id": "d5f5e1e4",
   "metadata": {},
   "source": [
    "# Idea Generation"
   ]
  },
  {
   "cell_type": "markdown",
   "id": "e7aa5f4a",
   "metadata": {},
   "source": [
    "### location count input"
   ]
  },
  {
   "cell_type": "code",
   "execution_count": 86,
   "id": "018c9fc5",
   "metadata": {},
   "outputs": [
    {
     "name": "stdout",
     "output_type": "stream",
     "text": [
      "How many Locations alternatives: --> 2\n",
      "entry: 2\n"
     ]
    }
   ],
   "source": [
    "import numpy as np\n",
    "ValidAltNo = False # Initialize validity check variable\n",
    "while not ValidAltNo: # Loop until input is valid\n",
    "    try: \n",
    "        AltNo  = int(input('How many Locations alternatives: --> ')) # Entering number of locations alternatives\n",
    "        # Input validity check\n",
    "        if AltNo > 0: # Is it positive?\n",
    "            ValidAltNo = True  # Valid response\n",
    "            print(f'entry: {AltNo}') #Display Input\n",
    "        else:\n",
    "            print('Enter a positive number')\n",
    "    except ValueError:\n",
    "        print('Input a number please')"
   ]
  },
  {
   "cell_type": "markdown",
   "id": "db3b6319",
   "metadata": {},
   "source": [
    "### Creating a dictionary with the number of locations entered "
   ]
  },
  {
   "cell_type": "code",
   "execution_count": 87,
   "id": "c4752e20",
   "metadata": {},
   "outputs": [
    {
     "name": "stdout",
     "output_type": "stream",
     "text": [
      "consider any place as the origin point and input vertical and horizontal distances\n",
      "Enter X (horizontal) coordinate of Location 1: --> 1\n",
      "Enter X (horizontal) coordinate of Location 2: --> 2\n",
      "{'Location 1 X coordinate': 1.0, 'Location 2 X coordinate': 2.0}\n"
     ]
    }
   ],
   "source": [
    "print('consider any place as the origin point and input vertical and horizontal distances')\n",
    "Inc_Var_InX = 0 # Initialize counter\n",
    "AltDictX = {} # Empty dictionary to be populated with X coordinates \n",
    "while Inc_Var_InX < AltNo:\n",
    "    try:\n",
    "        InX = float(input(f'Enter X (horizontal) coordinate of Location {Inc_Var_InX +1}: --> ')) # Input x coordinate\n",
    "        AltDictX.__setitem__(f'Location {Inc_Var_InX + 1} X coordinate', InX) # Populate empty Dict\n",
    "        Inc_Var_InX += 1 # Increment \n",
    "    except ValueError:\n",
    "        print('Enter a Whole or Decimal Number only')\n",
    "print(AltDictX)"
   ]
  },
  {
   "cell_type": "code",
   "execution_count": 14,
   "id": "a84c4b50",
   "metadata": {},
   "outputs": [],
   "source": [
    "AltNo = 3"
   ]
  },
  {
   "cell_type": "code",
   "execution_count": 89,
   "id": "0ef6e9e9",
   "metadata": {},
   "outputs": [
    {
     "name": "stdout",
     "output_type": "stream",
     "text": [
      "Enter y (vertical) coordinate of Location 1: --> 1\n",
      "Enter y (vertical) coordinate of Location 2: --> 2\n",
      "{'Location 1 Y coordinate': 1.0, 'Location 2 Y coordinate': 2.0}\n"
     ]
    }
   ],
   "source": [
    "Inc_Var_InY = 0 # Initialize counter\n",
    "AltDictY = {} # Empty dictionary to be populated with X coordinates \n",
    "while Inc_Var_InY < AltNo: # loop until Incremening __AltNo__ number of times\n",
    "    try:\n",
    "        InY = float(input(f'Enter y (vertical) coordinate of Location {Inc_Var_InY +1}: --> ')) # Input Y coordinate \n",
    "        AltDictY.__setitem__(f'Location {Inc_Var_InY + 1} Y coordinate', InY) # Populate empty Dict\n",
    "        Inc_Var_InY += 1 # Increment\n",
    "    except ValueError:\n",
    "        print('Enter a Whole or Decimal Number only')\n",
    "print(AltDictY)"
   ]
  },
  {
   "cell_type": "markdown",
   "id": "e5c4b065",
   "metadata": {},
   "source": [
    "### Create an array of x and y coordinates"
   ]
  },
  {
   "cell_type": "code",
   "execution_count": 90,
   "id": "fcc162e5",
   "metadata": {},
   "outputs": [],
   "source": [
    "Xcrds = np.array([]) # Empty array to be populated with coordinates for futhur processing\n",
    "for i in AltDictX.values(): # populate array with all values of the dictionary\n",
    "    Xcrds = np.append(Xcrds, i)\n",
    "Ycrds = np.array([]) # // for Y axis\n",
    "for i in AltDictY.values(): # // for Y axis\n",
    "    Ycrds = np.append(Ycrds, i)"
   ]
  },
  {
   "cell_type": "markdown",
   "id": "b24f7cac",
   "metadata": {},
   "source": [
    "### weight or no weights"
   ]
  },
  {
   "cell_type": "code",
   "execution_count": 91,
   "id": "f6e4a2e9",
   "metadata": {},
   "outputs": [
    {
     "name": "stdout",
     "output_type": "stream",
     "text": [
      "Do alternatives have weights? y/n: --> y\n"
     ]
    }
   ],
   "source": [
    "NoWht_Var = True # Initalize Loop Variables \n",
    "while NoWht_Var: # Loop only if there are weights or if all weights are entered\n",
    "    NoWhtsIn = input('Do alternatives have weights? y/n: --> ') # Prompt user \n",
    "    #Input validity check\n",
    "    if NoWhtsIn not in ['y', 'n']: \n",
    "        print('Please enter a valid response; No weights --> n, Has weights --> y') # Print and rePrompt\n",
    "    else:\n",
    "        # Execute if Input is valid\n",
    "        if NoWhtsIn == 'y':\n",
    "            IsWhts = True\n",
    "            break\n",
    "        else:\n",
    "            NoWht_Var = False # Assign it true to exit loop"
   ]
  },
  {
   "cell_type": "markdown",
   "id": "709b848d",
   "metadata": {},
   "source": [
    "### Input weights in array and calculating coordinates"
   ]
  },
  {
   "cell_type": "code",
   "execution_count": 94,
   "id": "1526fd12",
   "metadata": {},
   "outputs": [
    {
     "name": "stdout",
     "output_type": "stream",
     "text": [
      "Please Enter Weights at the same order of Coordinates,,, weight 1: --> 2\n",
      "Please Enter Weights at the same order of Coordinates,,, weight 2: --> 1\n",
      "center of gravity coordinates are (1.3333333333333333 , 1.3333333333333333\n"
     ]
    }
   ],
   "source": [
    "if IsWhts == True:\n",
    "    Whts = np.array([]) # Empty array to be populated with Alternatives Weights if any\n",
    "    Inc_Var_Wht = 0 # Initialize counter\n",
    "    while Inc_Var_Wht < AltNo:\n",
    "        try:\n",
    "            # Inputs\n",
    "            InWht = float(input(f'Please Enter Weights at the same order of Coordinates,,, weight {Inc_Var_Wht + 1}: --> ')) \n",
    "            Whts = np.append(Whts, InWht) # Populate weights array\n",
    "            Inc_Var_Wht += 1 # increment\n",
    "        except ValueError:\n",
    "            print('Please Enter a Whole or Decimal Number!')\n",
    "    # Compute average weighted coordinates\n",
    "    AveX = np.average(Xcrds, None, Whts, 0)\n",
    "    AveY = np.average(Ycrds, None, Whts, 0)\n",
    "    print(f'center of gravity coordinates are ({AveX} , {AveY}')\n",
    "else:\n",
    "    # Compute average coordinates  \n",
    "    AveX = np.average(Xcrds, None, None, 0)\n",
    "    AveY = np.average(Ycrds, None, None, 0)\n",
    "    print(f'center of gravity coordinates are ({AveX} , {AveY}')"
   ]
  },
  {
   "cell_type": "code",
   "execution_count": null,
   "id": "731f0ad5",
   "metadata": {},
   "outputs": [],
   "source": []
  },
  {
   "cell_type": "code",
   "execution_count": null,
   "id": "9c2f47c7",
   "metadata": {},
   "outputs": [],
   "source": []
  },
  {
   "cell_type": "markdown",
   "id": "8c14dc73",
   "metadata": {},
   "source": [
    "### Main Equation"
   ]
  },
  {
   "cell_type": "code",
   "execution_count": 84,
   "id": "4dced01b",
   "metadata": {},
   "outputs": [
    {
     "data": {
      "text/plain": [
       "1.5"
      ]
     },
     "execution_count": 84,
     "metadata": {},
     "output_type": "execute_result"
    }
   ],
   "source": [
    "if \n",
    "    \n",
    "    "
   ]
  },
  {
   "cell_type": "code",
   "execution_count": null,
   "id": "3b5ec05b",
   "metadata": {},
   "outputs": [],
   "source": []
  },
  {
   "cell_type": "code",
   "execution_count": null,
   "id": "9c91ea3a",
   "metadata": {},
   "outputs": [],
   "source": []
  },
  {
   "cell_type": "code",
   "execution_count": null,
   "id": "2ac4dc5c",
   "metadata": {},
   "outputs": [],
   "source": []
  },
  {
   "cell_type": "markdown",
   "id": "0303f52a",
   "metadata": {},
   "source": [
    "## Draft"
   ]
  },
  {
   "cell_type": "code",
   "execution_count": 55,
   "id": "1319cc07",
   "metadata": {},
   "outputs": [],
   "source": [
    "NoWht_Var = False # Initalize Loop Variables \n"
   ]
  }
 ],
 "metadata": {
  "kernelspec": {
   "display_name": "Python 3 (ipykernel)",
   "language": "python",
   "name": "python3"
  },
  "language_info": {
   "codemirror_mode": {
    "name": "ipython",
    "version": 3
   },
   "file_extension": ".py",
   "mimetype": "text/x-python",
   "name": "python",
   "nbconvert_exporter": "python",
   "pygments_lexer": "ipython3",
   "version": "3.11.4"
  }
 },
 "nbformat": 4,
 "nbformat_minor": 5
}
