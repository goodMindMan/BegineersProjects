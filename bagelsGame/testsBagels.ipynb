{
 "cells": [
  {
   "cell_type": "markdown",
   "id": "35887640",
   "metadata": {},
   "source": [
    "# Tests before writing bagels"
   ]
  },
  {
   "cell_type": "markdown",
   "id": "aa61c661",
   "metadata": {},
   "source": [
    "# # belogs test"
   ]
  },
  {
   "cell_type": "code",
   "execution_count": 2,
   "id": "9d9f52c6",
   "metadata": {},
   "outputs": [],
   "source": [
    "list = ['1', '2', '3']"
   ]
  },
  {
   "cell_type": "code",
   "execution_count": 4,
   "id": "30236758",
   "metadata": {},
   "outputs": [
    {
     "data": {
      "text/plain": [
       "True"
      ]
     },
     "execution_count": 4,
     "metadata": {},
     "output_type": "execute_result"
    }
   ],
   "source": [
    "'2' in list"
   ]
  },
  {
   "cell_type": "markdown",
   "id": "953e2da9",
   "metadata": {},
   "source": [
    "it worked"
   ]
  },
  {
   "cell_type": "markdown",
   "id": "405adc86",
   "metadata": {},
   "source": [
    "# # "
   ]
  }
 ],
 "metadata": {
  "kernelspec": {
   "display_name": "Python 3 (ipykernel)",
   "language": "python",
   "name": "python3"
  },
  "language_info": {
   "codemirror_mode": {
    "name": "ipython",
    "version": 3
   },
   "file_extension": ".py",
   "mimetype": "text/x-python",
   "name": "python",
   "nbconvert_exporter": "python",
   "pygments_lexer": "ipython3",
   "version": "3.11.4"
  }
 },
 "nbformat": 4,
 "nbformat_minor": 5
}
