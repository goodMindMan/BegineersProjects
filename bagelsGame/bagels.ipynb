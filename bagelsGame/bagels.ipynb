{
 "cells": [
  {
   "cell_type": "code",
   "execution_count": null,
   "id": "7150a4ab",
   "metadata": {},
   "outputs": [],
   "source": [
    "def bagelsGame( IN01 str, IN01 str, IN03 str):\n",
    "    '''\n",
    "    list of the real digits is 7, 0, 1 in this order\n",
    "    and the limit to the number of trials in 10\n",
    "    '''\n",
    "    lstDgts = ['7', '0', '1']\n",
    "    # assigning each digit separately for later\n",
    "    dgt01 = '7'\n",
    "    dgt02 = '0'\n",
    "    dgt03 = '1'\n",
    "    # digits inputed as str\n",
    "    IN01 = str(input('enter your guess for the first digit: '))\n",
    "    IN02 = str(input('enter your guess for the second digit: '))\n",
    "    IN03 = str(input('enter your guess for the third digit: '))\n",
    "    #belongs to list variables\n",
    "    '''\n",
    "    those are variables that are assigned as False \n",
    "    as long as an input doesn't belong to the list of \n",
    "    right digits\n",
    "    '''\n",
    "    blngs01 = False \n",
    "    blngs02 = False\n",
    "    blngs03 = False\n",
    "    # loop variables\n",
    "    trials = 0\n",
    "    trialsLmt = 10\n",
    "    picoCount = 0\n",
    "    # as long as trials arent used up and digits not guessed loop on the code\n",
    "    while trials != trialsCount and picoCount != 3:\n",
    "        # assign True to \n",
    "        if IN01 in lstDgts:\n",
    "            blngs01 = True\n",
    "        elif IN02 in lstDgts:\n",
    "            blngs02 = True\n",
    "        elif IN03 in lstDgts:\n",
    "            blngs02 = True\n",
    "        else:\n",
    "            None\n",
    "        \n",
    "    if picoCount = 3:\n",
    "        print('You win!!')\n",
    "    elif trials = 10:\n",
    "        print('Out of trials rerun to play again')\n",
    "    else:\n",
    "        print('We encountered an error please contact the adminstrator +201146824479')"
   ]
  }
 ],
 "metadata": {
  "kernelspec": {
   "display_name": "Python 3 (ipykernel)",
   "language": "python",
   "name": "python3"
  },
  "language_info": {
   "codemirror_mode": {
    "name": "ipython",
    "version": 3
   },
   "file_extension": ".py",
   "mimetype": "text/x-python",
   "name": "python",
   "nbconvert_exporter": "python",
   "pygments_lexer": "ipython3",
   "version": "3.11.4"
  }
 },
 "nbformat": 4,
 "nbformat_minor": 5
}
